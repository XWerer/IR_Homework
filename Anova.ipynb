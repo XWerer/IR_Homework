{
 "cells": [
  {
   "cell_type": "markdown",
   "metadata": {},
   "source": [
    "# HOMEWORK 1 - 1978793 - DAVIDE MASIERO\n",
    "\n",
    "## Notebook for the Statistic test Anova 1-way"
   ]
  },
  {
   "cell_type": "markdown",
   "metadata": {},
   "source": [
    "#### Import some library"
   ]
  },
  {
   "cell_type": "code",
   "execution_count": 1,
   "metadata": {},
   "outputs": [],
   "source": [
    "import re\n",
    "import numpy as np\n",
    "import pandas as pd\n",
    "from scipy import stats\n",
    "from statsmodels.stats.multicomp import pairwise_tukeyhsd\n",
    "from statsmodels.stats.multicomp import MultiComparison\n",
    "import matplotlib.pyplot as plt\n",
    "import glob\n",
    "\n",
    "files = glob.glob(\"Data/*.txt\")\n",
    "#print files"
   ]
  },
  {
   "cell_type": "markdown",
   "metadata": {},
   "source": [
    "### Go to parse the Data"
   ]
  },
  {
   "cell_type": "code",
   "execution_count": 2,
   "metadata": {
    "scrolled": true
   },
   "outputs": [],
   "source": [
    "df_map = pd.DataFrame() \n",
    "df_Rprec = pd.DataFrame()\n",
    "df_p = pd.DataFrame()\n",
    "for fi in files:\n",
    "    m = []\n",
    "    Rprec = []\n",
    "    p = []\n",
    "    f = open(fi, \"r\")\n",
    "    #print f\n",
    "    line = f.readline()\n",
    "    line = f.readline() \n",
    "    for line in f.readlines():\n",
    "        #print line\n",
    "        patt = re.compile('[^\\t\" \"\\n]+')\n",
    "        vec = patt.findall(line)\n",
    "        #print len(vec)\n",
    "        if (vec[0] == \"map\") and (vec[1] != \"all\"):\n",
    "            m.append(float(vec[2]))\n",
    "        elif (vec[0] == \"Rprec\") and (vec[1] != \"all\"):\n",
    "            Rprec.append(float(vec[2]))\n",
    "        elif (vec[0] == \"P_10\") and (vec[1] != \"all\"):\n",
    "            p.append(float(vec[2]))\n",
    "    df_map[fi[5:-4]] = m\n",
    "    df_Rprec[fi[5:-4]] = Rprec\n",
    "    df_p[fi[5:-4]] = p\n",
    "#print df_map\n",
    "#print df_Rprec\n",
    "#print df_p"
   ]
  },
  {
   "cell_type": "markdown",
   "metadata": {},
   "source": [
    "### Now go to compute the anova 1-way for each DataFrame and plot the boxplot\n",
    "#### 1) Map"
   ]
  },
  {
   "cell_type": "code",
   "execution_count": 3,
   "metadata": {},
   "outputs": [
    {
     "name": "stdout",
     "output_type": "stream",
     "text": [
      "One-way ANOVA - map\n",
      "===================\n",
      "F value: 0.26400852977493783\n",
      "P value: 0.8512741626367035\n"
     ]
    },
    {
     "data": {
      "image/png": "[encoded data removed]",
      "text/plain": [
       "<Figure size 432x288 with 1 Axes>"
      ]
     },
     "metadata": {
      "needs_background": "light"
     },
     "output_type": "display_data"
    }
   ],
   "source": [
    "f_m, p_m = stats.f_oneway(df_map['PS_BM25'],\n",
    "                          df_map['SL_PS_BM25'],\n",
    "                          df_map['SL_PS_TF_IDF'],\n",
    "                          df_map['TF_IDF'])\n",
    " \n",
    "print \"One-way ANOVA - map\"\n",
    "print \"===================\"\n",
    "print \"F value:\", f_m\n",
    "print \"P value:\", p_m\n",
    "\n",
    "#Create a boxplot\n",
    "fig1, ax1 = plt.subplots()\n",
    "data = [df_map['PS_BM25'], df_map['SL_PS_BM25'], df_map['SL_PS_TF_IDF'], df_map['TF_IDF']]\n",
    "ax1.boxplot(data, vert=False)\n",
    "ax1.set_title(\"Average Precision Box Plot\")\n",
    "ax1.set_ylabel(\"Run\")\n",
    "ax1.set_xlabel(\"Average Precision (AP)\")\n",
    "ax1.set_yticklabels([\"PS_BM25\", \"SL_PS_BM25\", \"SL_PS_TF_IDF\", \"TF_IDF\"])\n",
    "fig1.savefig(\"Img/BoxPlot_map.png\", dpi = 300, bbox_inches='tight')\n",
    "plt.show()"
   ]
  },
  {
   "cell_type": "markdown",
   "metadata": {},
   "source": [
    "#### 2) Rprec"
   ]
  },
  {
   "cell_type": "code",
   "execution_count": 4,
   "metadata": {},
   "outputs": [
    {
     "name": "stdout",
     "output_type": "stream",
     "text": [
      "One-way ANOVA - Rprec\n",
      "=====================\n",
      "F value: 0.2845657333375718\n",
      "P value: 0.8365093578072418\n"
     ]
    },
    {
     "data": {
      "image/png": "[encoded data removed]",
      "text/plain": [
       "<Figure size 432x288 with 1 Axes>"
      ]
     },
     "metadata": {
      "needs_background": "light"
     },
     "output_type": "display_data"
    }
   ],
   "source": [
    "f_Rprec, p_Rprec = stats.f_oneway(df_Rprec['PS_BM25'],\n",
    "                                  df_Rprec['SL_PS_BM25'],\n",
    "                                  df_Rprec['SL_PS_TF_IDF'],\n",
    "                                  df_Rprec['TF_IDF'])\n",
    " \n",
    "print \"One-way ANOVA - Rprec\"\n",
    "print \"=====================\"\n",
    "print \"F value:\", f_Rprec\n",
    "print \"P value:\", p_Rprec\n",
    "\n",
    "#Create a boxplot\n",
    "fig2, ax2 = plt.subplots()\n",
    "data = [df_Rprec['PS_BM25'], df_Rprec['SL_PS_BM25'], df_Rprec['SL_PS_TF_IDF'], df_Rprec['TF_IDF']]\n",
    "ax2.boxplot(data, vert=False)\n",
    "ax2.set_title(\"Rprec Box Plot\")\n",
    "ax2.set_ylabel(\"Run\")\n",
    "ax2.set_xlabel(\"Rprec\")\n",
    "ax2.set_yticklabels([\"PS_BM25\", \"SL_PS_BM25\", \"SL_PS_TF_IDF\", \"TF_IDF\"])\n",
    "fig2.savefig(\"Img/BoxPlot_Rprec.png\", dpi = 300, bbox_inches='tight')\n",
    "plt.show()"
   ]
  },
  {
   "cell_type": "markdown",
   "metadata": {},
   "source": [
    "#### 3) P_10"
   ]
  },
  {
   "cell_type": "code",
   "execution_count": 5,
   "metadata": {},
   "outputs": [
    {
     "name": "stdout",
     "output_type": "stream",
     "text": [
      "One-way ANOVA - P_10\n",
      "====================\n",
      "F value: 0.3905137728257508\n",
      "P value: 0.759961565986288\n"
     ]
    },
    {
     "data": {
      "image/png": "[encoded data removed]",
      "text/plain": [
       "<Figure size 432x288 with 1 Axes>"
      ]
     },
     "metadata": {
      "needs_background": "light"
     },
     "output_type": "display_data"
    }
   ],
   "source": [
    "f_p, p_p = stats.f_oneway(df_p['PS_BM25'],\n",
    "                          df_p['SL_PS_BM25'],\n",
    "                          df_p['SL_PS_TF_IDF'],\n",
    "                          df_p['TF_IDF'])\n",
    " \n",
    "print \"One-way ANOVA - P_10\"\n",
    "print \"====================\"\n",
    "print \"F value:\", f_p\n",
    "print \"P value:\", p_p\n",
    "\n",
    "#Create a boxplot\n",
    "fig3, ax3 = plt.subplots()\n",
    "data = [df_p['PS_BM25'], df_p['SL_PS_BM25'], df_p['SL_PS_TF_IDF'], df_p['TF_IDF']]\n",
    "ax3.boxplot(data, vert=False)\n",
    "ax3.set_title(\"P_10 Box Plot\")\n",
    "ax3.set_ylabel(\"Run\")\n",
    "ax3.set_xlabel(\"P_10\")\n",
    "ax3.set_yticklabels([\"PS_BM25\", \"SL_PS_BM25\", \"SL_PS_TF_IDF\", \"TF_IDF\"])\n",
    "fig3.savefig(\"Img/BoxPlot_P_10.png\", dpi = 300, bbox_inches='tight')\n",
    "plt.show()"
   ]
  },
  {
   "cell_type": "markdown",
   "metadata": {},
   "source": [
    "## Now go to do the comparison between each group\n",
    "\n",
    "#### 1) Map"
   ]
  },
  {
   "cell_type": "code",
   "execution_count": 6,
   "metadata": {},
   "outputs": [
    {
     "name": "stdout",
     "output_type": "stream",
     "text": [
      "   Multiple Comparison of Means - Tukey HSD,FWER=0.05   \n",
      "========================================================\n",
      "   group1       group2    meandiff  lower  upper  reject\n",
      "--------------------------------------------------------\n",
      "  PS_BM25     SL_PS_BM25   0.0017  -0.0849 0.0883 False \n",
      "  PS_BM25    SL_PS_TF_IDF  0.0014  -0.0851 0.088  False \n",
      "  PS_BM25       TF_IDF    -0.0232  -0.1098 0.0634 False \n",
      " SL_PS_BM25  SL_PS_TF_IDF -0.0003  -0.0868 0.0863 False \n",
      " SL_PS_BM25     TF_IDF    -0.0249  -0.1115 0.0617 False \n",
      "SL_PS_TF_IDF    TF_IDF    -0.0246  -0.1112 0.062  False \n",
      "--------------------------------------------------------\n"
     ]
    },
    {
     "data": {
      "image/png": "[encoded data removed]",
      "text/plain": [
       "<Figure size 720x432 with 1 Axes>"
      ]
     },
     "metadata": {
      "needs_background": "light"
     },
     "output_type": "display_data"
    }
   ],
   "source": [
    "s_map = df_map.stack().reset_index()\n",
    "s_map = s_map.rename(columns={'level_0': 'id', 'level_1': 'run', 0: 'map'})\n",
    "\n",
    "mc_map = MultiComparison(s_map['map'], s_map['run'])\n",
    "\n",
    "# Print the comparisons\n",
    "print mc_map.tukeyhsd().summary()\n",
    "fig = mc_map.tukeyhsd().plot_simultaneous(xlabel = \"Map\")\n",
    "fig.suptitle(\"Multiple Comparison (Map)\")\n",
    "fig.savefig(\"Img/MultiComparison_map.png\", dpi = 300)"
   ]
  },
  {
   "cell_type": "markdown",
   "metadata": {},
   "source": [
    "#### 2) Rprec"
   ]
  },
  {
   "cell_type": "code",
   "execution_count": 7,
   "metadata": {},
   "outputs": [
    {
     "name": "stdout",
     "output_type": "stream",
     "text": [
      "   Multiple Comparison of Means - Tukey HSD,FWER=0.05   \n",
      "========================================================\n",
      "   group1       group2    meandiff  lower  upper  reject\n",
      "--------------------------------------------------------\n",
      "  PS_BM25     SL_PS_BM25  -0.0034  -0.0858 0.079  False \n",
      "  PS_BM25    SL_PS_TF_IDF -0.0015  -0.0839 0.0809 False \n",
      "  PS_BM25       TF_IDF    -0.0255  -0.1079 0.0569 False \n",
      " SL_PS_BM25  SL_PS_TF_IDF  0.0019  -0.0805 0.0843 False \n",
      " SL_PS_BM25     TF_IDF     -0.022  -0.1045 0.0604 False \n",
      "SL_PS_TF_IDF    TF_IDF     -0.024  -0.1064 0.0584 False \n",
      "--------------------------------------------------------\n"
     ]
    },
    {
     "data": {
      "image/png": "[encoded data removed]",
      "text/plain": [
       "<Figure size 720x432 with 1 Axes>"
      ]
     },
     "metadata": {
      "needs_background": "light"
     },
     "output_type": "display_data"
    }
   ],
   "source": [
    "s_Rprec = df_Rprec.stack().reset_index()\n",
    "s_Rprec = s_Rprec.rename(columns={'level_0': 'id', 'level_1': 'run', 0: 'Rprec'})\n",
    "\n",
    "mc_Rprec = MultiComparison(s_Rprec['Rprec'], s_Rprec['run'])\n",
    "\n",
    "# Print the comparisons\n",
    "print mc_Rprec.tukeyhsd().summary()\n",
    "fig = mc_Rprec.tukeyhsd().plot_simultaneous(xlabel = \"Rprec\")\n",
    "fig.suptitle(\"Multiple Comparison (Rprec)\")\n",
    "fig.savefig(\"Img/MultiComparison_Rprec.png\", dpi = 300)"
   ]
  },
  {
   "cell_type": "markdown",
   "metadata": {},
   "source": [
    "#### 3) P_10"
   ]
  },
  {
   "cell_type": "code",
   "execution_count": 8,
   "metadata": {},
   "outputs": [
    {
     "name": "stdout",
     "output_type": "stream",
     "text": [
      "   Multiple Comparison of Means - Tukey HSD,FWER=0.05   \n",
      "========================================================\n",
      "   group1       group2    meandiff  lower  upper  reject\n",
      "--------------------------------------------------------\n",
      "  PS_BM25     SL_PS_BM25   0.008   -0.1457 0.1617 False \n",
      "  PS_BM25    SL_PS_TF_IDF  0.004   -0.1497 0.1577 False \n",
      "  PS_BM25       TF_IDF     -0.048  -0.2017 0.1057 False \n",
      " SL_PS_BM25  SL_PS_TF_IDF  -0.004  -0.1577 0.1497 False \n",
      " SL_PS_BM25     TF_IDF     -0.056  -0.2097 0.0977 False \n",
      "SL_PS_TF_IDF    TF_IDF     -0.052  -0.2057 0.1017 False \n",
      "--------------------------------------------------------\n"
     ]
    },
    {
     "data": {
      "image/png": "[encoded data removed]",
      "text/plain": [
       "<Figure size 720x432 with 1 Axes>"
      ]
     },
     "metadata": {
      "needs_background": "light"
     },
     "output_type": "display_data"
    }
   ],
   "source": [
    "s_p = df_p.stack().reset_index()\n",
    "s_p = s_p.rename(columns={'level_0': 'id', 'level_1': 'run', 0: 'P_10'})\n",
    "\n",
    "mc_p = MultiComparison(s_p['P_10'], s_p['run'])\n",
    "\n",
    "# Print the comparisons\n",
    "print mc_p.tukeyhsd().summary()\n",
    "fig = mc_p.tukeyhsd().plot_simultaneous(xlabel = \"P_10\")\n",
    "fig.suptitle(\"Multiple Comparison (P_10)\")\n",
    "fig.savefig(\"Img/MultiComparison_P_10.png\", dpi = 300)"
   ]
  },
  {
   "cell_type": "code",
   "execution_count": null,
   "metadata": {},
   "outputs": [],
   "source": []
  }
 ],
 "metadata": {
  "kernelspec": {
   "display_name": "Python 2",
   "language": "python",
   "name": "python2"
  },
  "language_info": {
   "codemirror_mode": {
    "name": "ipython",
    "version": 2
   },
   "file_extension": ".py",
   "mimetype": "text/x-python",
   "name": "python",
   "nbconvert_exporter": "python",
   "pygments_lexer": "ipython2",
   "version": "2.7.12"
  }
 },
 "nbformat": 4,
 "nbformat_minor": 2
}
